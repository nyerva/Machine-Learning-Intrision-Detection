{
 "cells": [
  {
   "cell_type": "markdown",
   "metadata": {},
   "source": [
    "# Comparison of Machine Learning Models for Intrusion Detection"
   ]
  },
  {
   "cell_type": "markdown",
   "metadata": {},
   "source": [
    "<b>Introduction:</b>\n",
    "Data privacy and confidentiality is the big concern for companies now a days. This project has tried to overcome this intrusion detection issue. Most recent researches have used adaptive ML ensemble technique for intrusion detection (Gao et al, 2019). The have targeted supervised ML techniques for intrusion detection in training data attacks. This project has implemented these supervised ML algorithms for detection of threats, but I have used different preprocessing and feature selection data cleansing. The output comparisons and results are fair enough with (Gao et al, 2019)."
   ]
  },
  {
   "cell_type": "markdown",
   "metadata": {},
   "source": [
    "## Step 1 and 2: Data Loading and Exploration"
   ]
  },
  {
   "cell_type": "markdown",
   "metadata": {},
   "source": [
    "<b>Dataset Description:</b>\n",
    "NSL-KDD dataset in advance version of KDD’99 dataset (Tavallaee et al, 2009), which have solved some inherent problems from previous version. This dataset contains TrainKDD+.txt and testKDD.txt files which have all the training and testing data with labels in it, respectively. The folder also contains training_attack_types.txt file which has all possible categories of the attacks along with attack types. There are 39 attack types which is part of 4 different attack categories. Figure 1 depicts attack types and categories, resulted from python code. There are total 43 number of features in the data and total samples/instances in the training data are 125973 while testing data have 22544 samples."
   ]
  },
  {
   "cell_type": "markdown",
   "metadata": {},
   "source": [
    "    Code for dataset uploading and describing"
   ]
  },
  {
   "cell_type": "code",
   "execution_count": 1,
   "metadata": {},
   "outputs": [
    {
     "name": "stdout",
     "output_type": "stream",
     "text": [
      "\u001b[1mTotal attacks categories in the dataset are 39 which are \u001b[0m\n",
      "['apache2' 'back' 'mailbomb' 'processtable' 'snmpgetattack' 'teardrop'\n",
      " 'smurf' 'land' 'neptune' 'pod' 'udpstorm' 'ps' 'buffer_overflow' 'perl'\n",
      " 'rootkit' 'loadmodule' 'xterm' 'sqlattack' 'httptunnel' 'ftp_write'\n",
      " 'guess_passwd' 'snmpguess' 'imap' 'spy' 'warezclient' 'warezmaster'\n",
      " 'multihop' 'phf' 'named' 'sendmail' 'xlock' 'xsnoop' 'worm' 'nmap'\n",
      " 'ipsweep' 'portsweep' 'satan' 'mscan' 'saint']\n",
      "\n",
      "\u001b[1mTotal attacks types in the dataset are 4 which are \u001b[0m\n",
      "['dos' 'u2r' 'r2l' 'probe']\n",
      "\n",
      "\u001b[1mTraining Data samples are 125973\n",
      "\n",
      "\u001b[1mTesting Data samples are 22544\n"
     ]
    }
   ],
   "source": [
    "import pandas as pd\n",
    "\n",
    "# Insert dataset path\n",
    "dataPath = 'Provide the path where unzipped dataset files are stored'\n",
    "\n",
    "#Upload training and testing and types files from disk\n",
    "trainData = pd.read_csv(dataPath + '\\\\KDDTrain+.txt')\n",
    "testData = pd.read_csv(dataPath + '\\\\KDDTest+.txt')\n",
    "attackFile = pd.read_csv(dataPath + '\\\\training_attack_types.txt', delimiter = ' ')\n",
    "\n",
    "#Display attack types, categories, length of train and test datasets\n",
    "attackCats = attackFile['attack_category'].unique()\n",
    "attackTypes = attackFile['attack_type'].unique()\n",
    "\n",
    "print('\\033[1mTotal attacks categories in the dataset are '+ str(len(attackCats)) +\n",
    "      ' which are \\033[0m\\n{}'.format(attackCats))\n",
    "print('\\n\\033[1mTotal attacks types in the dataset are '+ str(len(attackTypes)) +\n",
    "      ' which are \\033[0m\\n{}'.format(attackTypes))\n",
    "print('\\n\\033[1mTraining Data samples are '+ str(len(trainData)))\n",
    "print('\\n\\033[1mTesting Data samples are '+ str(len(testData)))\n"
   ]
  },
  {
   "cell_type": "code",
   "execution_count": 2,
   "metadata": {
    "scrolled": true
   },
   "outputs": [
    {
     "name": "stdout",
     "output_type": "stream",
     "text": [
      "\n",
      "\u001b[1mDataset Header\n"
     ]
    },
    {
     "data": {
      "text/html": [
       "<div>\n",
       "<style scoped>\n",
       "    .dataframe tbody tr th:only-of-type {\n",
       "        vertical-align: middle;\n",
       "    }\n",
       "\n",
       "    .dataframe tbody tr th {\n",
       "        vertical-align: top;\n",
       "    }\n",
       "\n",
       "    .dataframe thead th {\n",
       "        text-align: right;\n",
       "    }\n",
       "</style>\n",
       "<table border=\"1\" class=\"dataframe\">\n",
       "  <thead>\n",
       "    <tr style=\"text-align: right;\">\n",
       "      <th></th>\n",
       "      <th>duration</th>\n",
       "      <th>protocol_type</th>\n",
       "      <th>service</th>\n",
       "      <th>flag</th>\n",
       "      <th>src_bytes</th>\n",
       "      <th>dst_bytes</th>\n",
       "      <th>land</th>\n",
       "      <th>wrong_fragment</th>\n",
       "      <th>urgent</th>\n",
       "      <th>hot</th>\n",
       "      <th>...</th>\n",
       "      <th>dst_host_same_srv_rate</th>\n",
       "      <th>dst_host_diff_srv_rate</th>\n",
       "      <th>dst_host_same_src_port_rate</th>\n",
       "      <th>dst_host_srv_diff_host_rate</th>\n",
       "      <th>dst_host_serror_rate</th>\n",
       "      <th>dst_host_srv_serror_rate</th>\n",
       "      <th>dst_host_rerror_rate</th>\n",
       "      <th>dst_host_srv_rerror_rate</th>\n",
       "      <th>attack_category</th>\n",
       "      <th>occurance</th>\n",
       "    </tr>\n",
       "  </thead>\n",
       "  <tbody>\n",
       "    <tr>\n",
       "      <th>0</th>\n",
       "      <td>0</td>\n",
       "      <td>tcp</td>\n",
       "      <td>ftp_data</td>\n",
       "      <td>SF</td>\n",
       "      <td>491</td>\n",
       "      <td>0</td>\n",
       "      <td>0</td>\n",
       "      <td>0</td>\n",
       "      <td>0</td>\n",
       "      <td>0</td>\n",
       "      <td>...</td>\n",
       "      <td>0.17</td>\n",
       "      <td>0.03</td>\n",
       "      <td>0.17</td>\n",
       "      <td>0.00</td>\n",
       "      <td>0.00</td>\n",
       "      <td>0.00</td>\n",
       "      <td>0.05</td>\n",
       "      <td>0.00</td>\n",
       "      <td>normal</td>\n",
       "      <td>20</td>\n",
       "    </tr>\n",
       "    <tr>\n",
       "      <th>1</th>\n",
       "      <td>0</td>\n",
       "      <td>udp</td>\n",
       "      <td>other</td>\n",
       "      <td>SF</td>\n",
       "      <td>146</td>\n",
       "      <td>0</td>\n",
       "      <td>0</td>\n",
       "      <td>0</td>\n",
       "      <td>0</td>\n",
       "      <td>0</td>\n",
       "      <td>...</td>\n",
       "      <td>0.00</td>\n",
       "      <td>0.60</td>\n",
       "      <td>0.88</td>\n",
       "      <td>0.00</td>\n",
       "      <td>0.00</td>\n",
       "      <td>0.00</td>\n",
       "      <td>0.00</td>\n",
       "      <td>0.00</td>\n",
       "      <td>normal</td>\n",
       "      <td>15</td>\n",
       "    </tr>\n",
       "    <tr>\n",
       "      <th>2</th>\n",
       "      <td>0</td>\n",
       "      <td>tcp</td>\n",
       "      <td>private</td>\n",
       "      <td>S0</td>\n",
       "      <td>0</td>\n",
       "      <td>0</td>\n",
       "      <td>0</td>\n",
       "      <td>0</td>\n",
       "      <td>0</td>\n",
       "      <td>0</td>\n",
       "      <td>...</td>\n",
       "      <td>0.10</td>\n",
       "      <td>0.05</td>\n",
       "      <td>0.00</td>\n",
       "      <td>0.00</td>\n",
       "      <td>1.00</td>\n",
       "      <td>1.00</td>\n",
       "      <td>0.00</td>\n",
       "      <td>0.00</td>\n",
       "      <td>neptune</td>\n",
       "      <td>19</td>\n",
       "    </tr>\n",
       "    <tr>\n",
       "      <th>3</th>\n",
       "      <td>0</td>\n",
       "      <td>tcp</td>\n",
       "      <td>http</td>\n",
       "      <td>SF</td>\n",
       "      <td>232</td>\n",
       "      <td>8153</td>\n",
       "      <td>0</td>\n",
       "      <td>0</td>\n",
       "      <td>0</td>\n",
       "      <td>0</td>\n",
       "      <td>...</td>\n",
       "      <td>1.00</td>\n",
       "      <td>0.00</td>\n",
       "      <td>0.03</td>\n",
       "      <td>0.04</td>\n",
       "      <td>0.03</td>\n",
       "      <td>0.01</td>\n",
       "      <td>0.00</td>\n",
       "      <td>0.01</td>\n",
       "      <td>normal</td>\n",
       "      <td>21</td>\n",
       "    </tr>\n",
       "    <tr>\n",
       "      <th>4</th>\n",
       "      <td>0</td>\n",
       "      <td>tcp</td>\n",
       "      <td>http</td>\n",
       "      <td>SF</td>\n",
       "      <td>199</td>\n",
       "      <td>420</td>\n",
       "      <td>0</td>\n",
       "      <td>0</td>\n",
       "      <td>0</td>\n",
       "      <td>0</td>\n",
       "      <td>...</td>\n",
       "      <td>1.00</td>\n",
       "      <td>0.00</td>\n",
       "      <td>0.00</td>\n",
       "      <td>0.00</td>\n",
       "      <td>0.00</td>\n",
       "      <td>0.00</td>\n",
       "      <td>0.00</td>\n",
       "      <td>0.00</td>\n",
       "      <td>normal</td>\n",
       "      <td>21</td>\n",
       "    </tr>\n",
       "  </tbody>\n",
       "</table>\n",
       "<p>5 rows × 43 columns</p>\n",
       "</div>"
      ],
      "text/plain": [
       "   duration protocol_type   service flag  src_bytes  dst_bytes  land  \\\n",
       "0         0           tcp  ftp_data   SF        491          0     0   \n",
       "1         0           udp     other   SF        146          0     0   \n",
       "2         0           tcp   private   S0          0          0     0   \n",
       "3         0           tcp      http   SF        232       8153     0   \n",
       "4         0           tcp      http   SF        199        420     0   \n",
       "\n",
       "   wrong_fragment  urgent  hot  ...  dst_host_same_srv_rate  \\\n",
       "0               0       0    0  ...                    0.17   \n",
       "1               0       0    0  ...                    0.00   \n",
       "2               0       0    0  ...                    0.10   \n",
       "3               0       0    0  ...                    1.00   \n",
       "4               0       0    0  ...                    1.00   \n",
       "\n",
       "   dst_host_diff_srv_rate  dst_host_same_src_port_rate  \\\n",
       "0                    0.03                         0.17   \n",
       "1                    0.60                         0.88   \n",
       "2                    0.05                         0.00   \n",
       "3                    0.00                         0.03   \n",
       "4                    0.00                         0.00   \n",
       "\n",
       "   dst_host_srv_diff_host_rate  dst_host_serror_rate  \\\n",
       "0                         0.00                  0.00   \n",
       "1                         0.00                  0.00   \n",
       "2                         0.00                  1.00   \n",
       "3                         0.04                  0.03   \n",
       "4                         0.00                  0.00   \n",
       "\n",
       "   dst_host_srv_serror_rate  dst_host_rerror_rate  dst_host_srv_rerror_rate  \\\n",
       "0                      0.00                  0.05                      0.00   \n",
       "1                      0.00                  0.00                      0.00   \n",
       "2                      1.00                  0.00                      0.00   \n",
       "3                      0.01                  0.00                      0.01   \n",
       "4                      0.00                  0.00                      0.00   \n",
       "\n",
       "   attack_category  occurance  \n",
       "0           normal         20  \n",
       "1           normal         15  \n",
       "2          neptune         19  \n",
       "3           normal         21  \n",
       "4           normal         21  \n",
       "\n",
       "[5 rows x 43 columns]"
      ]
     },
     "metadata": {},
     "output_type": "display_data"
    }
   ],
   "source": [
    "print('\\n\\033[1mDataset Header')\n",
    "display(trainData.head())"
   ]
  },
  {
   "cell_type": "markdown",
   "metadata": {},
   "source": [
    "As you can see that there are few columns which have non-numeric data. Data cleaning has taken care of this mixed data."
   ]
  },
  {
   "cell_type": "markdown",
   "metadata": {},
   "source": [
    "##  Step 3: Data Cleaning"
   ]
  },
  {
   "cell_type": "code",
   "execution_count": 3,
   "metadata": {},
   "outputs": [],
   "source": [
    "#Identify and select non-numeric columns\n",
    "nonNumCols = ['protocol_type', 'service', 'flag', 'occurance']\n",
    "\n",
    "#Drop non-numeric columns from training and testing data\n",
    "trainData.drop(nonNumCols, axis=1, inplace=True)\n",
    "testData.drop(nonNumCols, axis=1, inplace=True)\n",
    "\n",
    "#Convert all types of attacks into threat label for both training and testing data\n",
    "trainData.loc[trainData['attack_category'] != 'normal', 'attack_category'] = 'threat'\n",
    "testData.loc[testData['attack_category'] != 'normal', 'attack_category'] = 'threat'"
   ]
  },
  {
   "cell_type": "markdown",
   "metadata": {},
   "source": [
    "## Step 4: Data Visualization "
   ]
  },
  {
   "cell_type": "code",
   "execution_count": 4,
   "metadata": {},
   "outputs": [
    {
     "data": {
      "text/plain": [
       "<matplotlib.axes._subplots.AxesSubplot at 0x20f009a8c48>"
      ]
     },
     "execution_count": 4,
     "metadata": {},
     "output_type": "execute_result"
    },
    {
     "data": {
      "image/png": "[encoded data removed]",
      "text/plain": [
       "<Figure size 1440x720 with 1 Axes>"
      ]
     },
     "metadata": {
      "needs_background": "light"
     },
     "output_type": "display_data"
    }
   ],
   "source": [
    "#Count each label samples in tranining and testing set\n",
    "trainCats = trainData['attack_category'].value_counts()\n",
    "testCats = testData['attack_category'].value_counts()\n",
    "\n",
    "#Plot these counts of trian and test both\n",
    "trainCats.plot(kind='barh', figsize=(20,10), fontsize=30)\n",
    "testCats.plot(kind='barh', figsize=(20,10), fontsize=30)"
   ]
  },
  {
   "cell_type": "markdown",
   "metadata": {},
   "source": [
    "## Step 5: Feature Engineering "
   ]
  },
  {
   "cell_type": "markdown",
   "metadata": {},
   "source": [
    "Lets count number of zeros in each column"
   ]
  },
  {
   "cell_type": "code",
   "execution_count": 5,
   "metadata": {},
   "outputs": [
    {
     "name": "stdout",
     "output_type": "stream",
     "text": [
      "Column\t\t\tNumber of zeros\n",
      "duration                       115955\n",
      "src_bytes                       49392\n",
      "dst_bytes                       67967\n",
      "land                           125948\n",
      "wrong_fragment                 124883\n",
      "urgent                         125964\n",
      "hot                            123302\n",
      "num_failed_logins              125851\n",
      "logged_in                       76121\n",
      "num_compromised                124687\n",
      "root_shell                     125804\n",
      "su_attempted                   125893\n",
      "num_root                       125324\n",
      "num_file_creations             125686\n",
      "num_shells                     125926\n",
      "num_access_files               125602\n",
      "num_outbound_cmds              125973\n",
      "is_host_login                  125972\n",
      "is_guest_login                 124786\n",
      "count                              13\n",
      "srv_count                          13\n",
      "serror_rate                     86829\n",
      "srv_serror_rate                 88754\n",
      "rerror_rate                    109783\n",
      "srv_rerror_rate                109767\n",
      "same_srv_rate                    2766\n",
      "diff_srv_rate                   76217\n",
      "srv_diff_host_rate              97574\n",
      "dst_host_count                      3\n",
      "dst_host_srv_count                  3\n",
      "dst_host_same_srv_rate           6927\n",
      "dst_host_diff_srv_rate          46989\n",
      "dst_host_same_src_port_rate     63023\n",
      "dst_host_srv_diff_host_rate     86904\n",
      "dst_host_serror_rate            81386\n",
      "dst_host_srv_serror_rate        85360\n",
      "dst_host_rerror_rate           103178\n",
      "dst_host_srv_rerror_rate       106616\n",
      "attack_category                     0\n",
      "dtype: int64\n"
     ]
    }
   ],
   "source": [
    "zerosData = trainData.isin([0]).sum()\n",
    "print('Column\\t\\t\\tNumber of zeros\\n{}'.format(zerosData))"
   ]
  },
  {
   "cell_type": "markdown",
   "metadata": {},
   "source": [
    "Many features/columns of training and testing data of NSL-KDD has a lot of zeros while others have higher values. In the eye of ML, this thing effects fitting of model in negative way. It is recommended to do some preprocessing before passes the data into training or while testing the model. I have applied two different preprocessing techniques (feature engineering) to the training as well as testing data. These techniques are discussed in before model training and testing."
   ]
  },
  {
   "cell_type": "code",
   "execution_count": 6,
   "metadata": {},
   "outputs": [],
   "source": [
    "#Extracting labels from traning and testing data\n",
    "trainY = trainData['attack_category']\n",
    "train_x = trainData.drop(['attack_category'], axis=1)\n",
    "testY = testData['attack_category']\n",
    "test_x = testData.drop(['attack_category'], axis=1)\n",
    "labels = ['Normal', 'Threat']\n",
    "\n",
    "#Importing preprocessing functions from sklearn library\n",
    "from sklearn.preprocessing import StandardScaler\n",
    "from sklearn.preprocessing import RobustScaler"
   ]
  },
  {
   "cell_type": "markdown",
   "metadata": {},
   "source": [
    "## Step 6 and 7: Predictive Modelling and Results Visualization"
   ]
  },
  {
   "cell_type": "markdown",
   "metadata": {},
   "source": [
    "##### Importing Required Libraries for preprocessing and performance measures"
   ]
  },
  {
   "cell_type": "code",
   "execution_count": 7,
   "metadata": {},
   "outputs": [],
   "source": [
    "#Importing required libraries used for predictions and visualization\n",
    "from sklearn.metrics import confusion_matrix, zero_one_loss, accuracy_score, classification_report, cohen_kappa_score, f1_score, precision_score, recall_score \n",
    "import matplotlib.pyplot as plt\n",
    "import seaborn as sn\n",
    "import time"
   ]
  },
  {
   "cell_type": "markdown",
   "metadata": {},
   "source": [
    "### a) Training/Testing and Individual Algorithm Comparison"
   ]
  },
  {
   "cell_type": "markdown",
   "metadata": {},
   "source": [
    "#### 1. Neural Network Classifier"
   ]
  },
  {
   "cell_type": "code",
   "execution_count": 8,
   "metadata": {},
   "outputs": [
    {
     "name": "stdout",
     "output_type": "stream",
     "text": [
      "\u001b[1mComparison Table for Neural Network\u001b[0m\n",
      "              precision    recall  f1-score   support\n",
      "\n",
      "      Normal       0.66      0.97      0.79      9711\n",
      "      Threat       0.97      0.62      0.75     12833\n",
      "\n",
      "    accuracy                           0.77     22544\n",
      "   macro avg       0.81      0.80      0.77     22544\n",
      "weighted avg       0.83      0.77      0.77     22544\n",
      "\n"
     ]
    },
    {
     "data": {
      "image/png": "[encoded data removed]",
      "text/plain": [
       "<Figure size 432x288 with 2 Axes>"
      ]
     },
     "metadata": {
      "needs_background": "light"
     },
     "output_type": "display_data"
    }
   ],
   "source": [
    "#Feature normalization and trasformation in training and testind data\n",
    "robust_scaler = RobustScaler().fit(train_x)\n",
    "trainX = robust_scaler.transform(train_x)\n",
    "testX = robust_scaler.transform(test_x)\n",
    "#Import classifier function from sklearn library\n",
    "from sklearn.neural_network import MLPClassifier\n",
    "#Set classifier parameters according to the input data\n",
    "classifier = MLPClassifier(activation='logistic', batch_size=200, hidden_layer_sizes=(100, 50, 50, 30),\n",
    "                          learning_rate = 'adaptive', solver = 'adam', learning_rate_init = 0.01, max_iter=250,\n",
    "                          early_stopping=True, validation_fraction=0.1)\n",
    "#Network fitting and time calcualtion\n",
    "t = time.time() #Time start\n",
    "clsf = classifier.fit(trainX, trainY)\n",
    "#Prediction of test data\n",
    "pred_y = classifier.predict(testX)\n",
    "#Classifier performance measures\n",
    "results = confusion_matrix(testY, pred_y)\n",
    "error = zero_one_loss(testY, pred_y)\n",
    "NN_time = time.time() - t #Total time\n",
    "NN_acc = round(accuracy_score(testY, pred_y) * 100, 2)\n",
    "NN_prec = round(precision_score(testY, pred_y, average = 'macro') * 100, 2)\n",
    "NN_rec = round(recall_score(testY, pred_y, average = 'macro') * 100, 2)\n",
    "NN_kappa = round(cohen_kappa_score(testY, pred_y) * 100, 2)\n",
    "NN_f1_sc = round(f1_score(testY, pred_y, average = 'macro') * 100, 2)\n",
    "NN_err = round(zero_one_loss(testY, pred_y) * 100, 2)\n",
    "#Visualization of output performance measures\n",
    "print(\"\\033[1mComparison Table for Neural Network\\033[0m\")\n",
    "print(classification_report(testY, pred_y, target_names=labels))\n",
    "df_cm = pd.DataFrame(results, index=labels, columns=labels)\n",
    "sn.heatmap(df_cm, cmap='Oranges',annot=True, annot_kws={\"size\": 12}, fmt=\"d\")\n",
    "plt.title('Confusion Matrix heatmap for Artificial Neural Network')\n",
    "plt.show()"
   ]
  },
  {
   "cell_type": "markdown",
   "metadata": {},
   "source": [
    "#### 2. K-Nearest Neighbor Classifier"
   ]
  },
  {
   "cell_type": "code",
   "execution_count": 9,
   "metadata": {},
   "outputs": [
    {
     "name": "stdout",
     "output_type": "stream",
     "text": [
      "\u001b[1mComparison Table for k-Nearest Neighbors\u001b[0m\n",
      "              precision    recall  f1-score   support\n",
      "\n",
      "      Normal       0.64      0.94      0.76      9711\n",
      "      Threat       0.93      0.60      0.73     12833\n",
      "\n",
      "    accuracy                           0.75     22544\n",
      "   macro avg       0.78      0.77      0.75     22544\n",
      "weighted avg       0.80      0.75      0.74     22544\n",
      "\n"
     ]
    },
    {
     "data": {
      "image/png": "[encoded data removed]",
      "text/plain": [
       "<Figure size 432x288 with 2 Axes>"
      ]
     },
     "metadata": {
      "needs_background": "light"
     },
     "output_type": "display_data"
    }
   ],
   "source": [
    "#Feature normalization and trasformation in training and testind data\n",
    "standard_scaler = StandardScaler().fit(train_x)\n",
    "trainX = standard_scaler.transform(train_x)\n",
    "testX = standard_scaler.transform(test_x)\n",
    "#Import classifier function from sklearn library\n",
    "from sklearn.neighbors import KNeighborsClassifier\n",
    "#Set classifier parameters according to the input data\n",
    "classifier = KNeighborsClassifier(n_neighbors=5, weights='uniform', algorithm='auto',\n",
    "                                  leaf_size=30)\n",
    "#Network fitting and time calcualtion\n",
    "t = time.time() #Time start\n",
    "clsf = classifier.fit(trainX, trainY)\n",
    "#Prediction of test data\n",
    "pred_y = classifier.predict(testX)\n",
    "#Classifier performance measures\n",
    "results = confusion_matrix(testY, pred_y)\n",
    "error = zero_one_loss(testY, pred_y)\n",
    "knn_time = time.time() - t #Total time\n",
    "knn_acc = round(accuracy_score(testY, pred_y) * 100, 2)\n",
    "knn_prec = round(precision_score(testY, pred_y, average = 'macro') * 100, 2)\n",
    "knn_rec = round(recall_score(testY, pred_y, average = 'macro') * 100, 2)\n",
    "knn_kappa = round(cohen_kappa_score(testY, pred_y) * 100, 2)\n",
    "knn_f1_sc = round(f1_score(testY, pred_y, average = 'macro') * 100, 2)\n",
    "knn_err = round(zero_one_loss(testY, pred_y) * 100, 2)\n",
    "#Visualization of output performance measures\n",
    "print(\"\\033[1mComparison Table for k-Nearest Neighbors\\033[0m\")\n",
    "print(classification_report(testY, pred_y, target_names=labels))\n",
    "df_cm = pd.DataFrame(results, index=labels, columns=labels)\n",
    "sn.heatmap(df_cm, cmap='Greens',annot=True, annot_kws={\"size\": 12}, fmt=\"d\") # font size\n",
    "plt.title('Confusion Matrix heatmap for k-Nearest Neighbors')\n",
    "plt.show()"
   ]
  },
  {
   "cell_type": "markdown",
   "metadata": {},
   "source": [
    "#### 3. Decision Tree Classifier"
   ]
  },
  {
   "cell_type": "code",
   "execution_count": 10,
   "metadata": {},
   "outputs": [
    {
     "name": "stdout",
     "output_type": "stream",
     "text": [
      "\u001b[1mComparison Table for Decision Tree Classifier\u001b[0m\n",
      "              precision    recall  f1-score   support\n",
      "\n",
      "      Normal       0.67      0.97      0.79      9711\n",
      "      Threat       0.97      0.64      0.77     12833\n",
      "\n",
      "    accuracy                           0.78     22544\n",
      "   macro avg       0.82      0.81      0.78     22544\n",
      "weighted avg       0.84      0.78      0.78     22544\n",
      "\n"
     ]
    },
    {
     "data": {
      "image/png": "[encoded data removed]",
      "text/plain": [
       "<Figure size 432x288 with 2 Axes>"
      ]
     },
     "metadata": {
      "needs_background": "light"
     },
     "output_type": "display_data"
    }
   ],
   "source": [
    "#Feature normalization and trasformation in training and testind data\n",
    "standard_scaler = StandardScaler().fit(train_x)\n",
    "trainX = standard_scaler.transform(train_x)\n",
    "testX = standard_scaler.transform(test_x)\n",
    "#Import classifier function from sklearn library\n",
    "from sklearn.tree import DecisionTreeClassifier\n",
    "#Set classifier parameters according to the input data\n",
    "classifier = DecisionTreeClassifier(random_state=17)\n",
    "#Network fitting and time calcualtion\n",
    "t = time.time() #Time start\n",
    "clsf = classifier.fit(trainX, trainY)\n",
    "#Prediction of test data\n",
    "pred_y = classifier.predict(testX)\n",
    "#Classifier performance measures\n",
    "results = confusion_matrix(testY, pred_y)\n",
    "error = zero_one_loss(testY, pred_y)\n",
    "DTC_time = time.time() - t #Total time\n",
    "DTC_acc = round(accuracy_score(testY, pred_y) * 100, 2)\n",
    "DTC_prec = round(precision_score(testY, pred_y, average = 'macro') * 100, 2)\n",
    "DTC_rec = round(recall_score(testY, pred_y, average = 'macro') * 100, 2)\n",
    "DTC_kappa = round(cohen_kappa_score(testY, pred_y) * 100, 2)\n",
    "DTC_f1_sc = round(f1_score(testY, pred_y, average = 'macro') * 100, 2)\n",
    "DTC_err = round(zero_one_loss(testY, pred_y) * 100, 2)\n",
    "#Visualization of output performance measures\n",
    "print(\"\\033[1mComparison Table for Decision Tree Classifier\\033[0m\")\n",
    "print(classification_report(testY, pred_y, target_names=labels))\n",
    "df_cm = pd.DataFrame(results, index=labels, columns=labels)\n",
    "sn.heatmap(df_cm, cmap='Reds',annot=True, annot_kws={\"size\": 12}, fmt=\"d\") # font size\n",
    "plt.title('Confusion Matrix heatmap for Decision Tree Classifier')\n",
    "plt.show()"
   ]
  },
  {
   "cell_type": "markdown",
   "metadata": {},
   "source": [
    "### b) Overall Comparisons"
   ]
  },
  {
   "cell_type": "markdown",
   "metadata": {},
   "source": [
    "#### Table comparison between all algorithms performance measures"
   ]
  },
  {
   "cell_type": "code",
   "execution_count": 11,
   "metadata": {
    "scrolled": true
   },
   "outputs": [
    {
     "data": {
      "text/html": [
       "<div>\n",
       "<style scoped>\n",
       "    .dataframe tbody tr th:only-of-type {\n",
       "        vertical-align: middle;\n",
       "    }\n",
       "\n",
       "    .dataframe tbody tr th {\n",
       "        vertical-align: top;\n",
       "    }\n",
       "\n",
       "    .dataframe thead th {\n",
       "        text-align: right;\n",
       "    }\n",
       "</style>\n",
       "<table border=\"1\" class=\"dataframe\">\n",
       "  <thead>\n",
       "    <tr style=\"text-align: right;\">\n",
       "      <th></th>\n",
       "      <th>Algorithm</th>\n",
       "      <th>Accuracy(%)</th>\n",
       "      <th>Precision(%)</th>\n",
       "      <th>Recall(%)</th>\n",
       "      <th>F1-Score(%)</th>\n",
       "      <th>Error(%)</th>\n",
       "      <th>Time(s)</th>\n",
       "    </tr>\n",
       "  </thead>\n",
       "  <tbody>\n",
       "    <tr>\n",
       "      <th>0</th>\n",
       "      <td>ANN</td>\n",
       "      <td>77.08</td>\n",
       "      <td>81.30</td>\n",
       "      <td>79.53</td>\n",
       "      <td>76.97</td>\n",
       "      <td>22.92</td>\n",
       "      <td>51.138230</td>\n",
       "    </tr>\n",
       "    <tr>\n",
       "      <th>1</th>\n",
       "      <td>kNN</td>\n",
       "      <td>74.74</td>\n",
       "      <td>78.43</td>\n",
       "      <td>77.05</td>\n",
       "      <td>74.65</td>\n",
       "      <td>25.26</td>\n",
       "      <td>250.413133</td>\n",
       "    </tr>\n",
       "    <tr>\n",
       "      <th>2</th>\n",
       "      <td>DecTree</td>\n",
       "      <td>78.33</td>\n",
       "      <td>82.02</td>\n",
       "      <td>80.64</td>\n",
       "      <td>78.27</td>\n",
       "      <td>21.67</td>\n",
       "      <td>1.748322</td>\n",
       "    </tr>\n",
       "  </tbody>\n",
       "</table>\n",
       "</div>"
      ],
      "text/plain": [
       "  Algorithm  Accuracy(%)  Precision(%)  Recall(%)  F1-Score(%)  Error(%)  \\\n",
       "0       ANN        77.08         81.30      79.53        76.97     22.92   \n",
       "1       kNN        74.74         78.43      77.05        74.65     25.26   \n",
       "2   DecTree        78.33         82.02      80.64        78.27     21.67   \n",
       "\n",
       "      Time(s)  \n",
       "0   51.138230  \n",
       "1  250.413133  \n",
       "2    1.748322  "
      ]
     },
     "metadata": {},
     "output_type": "display_data"
    }
   ],
   "source": [
    "#Saving all algorithms in single dataframe\n",
    "overall = pd.DataFrame({'Algorithm': ['ANN', 'kNN', 'DecTree'],\n",
    "                    'Accuracy(%)': [NN_acc, knn_acc, DTC_acc],\n",
    "                   'Precision(%)': [NN_prec, knn_prec, DTC_prec],\n",
    "                   'Recall(%)': [NN_rec, knn_rec, DTC_rec],\n",
    "                    'F1-Score(%)': [NN_f1_sc, knn_f1_sc, DTC_f1_sc],\n",
    "                   'Error(%)': [NN_err, knn_err, DTC_err],\n",
    "                     'Time(s)': [NN_time, knn_time, DTC_time]})\n",
    "display(overall)"
   ]
  },
  {
   "cell_type": "markdown",
   "metadata": {},
   "source": [
    "#### Bar plot comparison between accuracy of different algorithms"
   ]
  },
  {
   "cell_type": "code",
   "execution_count": 12,
   "metadata": {},
   "outputs": [
    {
     "data": {
      "image/png": "[encoded data removed]",
      "text/plain": [
       "<Figure size 432x288 with 1 Axes>"
      ]
     },
     "metadata": {
      "needs_background": "light"
     },
     "output_type": "display_data"
    }
   ],
   "source": [
    "all_acc = [DTC_acc, NN_acc, knn_acc]\n",
    "fig = plt.figure()\n",
    "ax = fig.add_axes([0,0,1,1])\n",
    "algos = ['DecTree', 'ANN', 'kNN']\n",
    "ax.bar(algos, all_acc)\n",
    "plt.title('Accuracy Comparison between algorithms')\n",
    "plt.xlabel('Algorithm')\n",
    "plt.ylabel('Accuracy (%)')\n",
    "plt.show()"
   ]
  },
  {
   "cell_type": "markdown",
   "metadata": {},
   "source": [
    "# The END"
   ]
  }
 ],
 "metadata": {
  "kernelspec": {
   "display_name": "Python 3",
   "language": "python",
   "name": "python3"
  },
  "language_info": {
   "codemirror_mode": {
    "name": "ipython",
    "version": 3
   },
   "file_extension": ".py",
   "mimetype": "text/x-python",
   "name": "python",
   "nbconvert_exporter": "python",
   "pygments_lexer": "ipython3",
   "version": "3.7.6"
  }
 },
 "nbformat": 4,
 "nbformat_minor": 4
}